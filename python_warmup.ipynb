{
 "cells": [
  {
   "cell_type": "markdown",
   "metadata": {},
   "source": [
    "# Python Warm-Up Assignment"
   ]
  },
  {
   "cell_type": "raw",
   "metadata": {},
   "source": [
    "Fahimeh Hosseini\n",
    "1003770387"
   ]
  },
  {
   "cell_type": "markdown",
   "metadata": {},
   "source": [
    "Question One"
   ]
  },
  {
   "cell_type": "code",
   "execution_count": 5,
   "metadata": {
    "collapsed": true
   },
   "outputs": [],
   "source": [
    "def oddLines(filePath):\n",
    "    #input: the input should be a filepath\n",
    "    txt= open(filePath, 'r') #Open filepath and using reading mode\n",
    "    txt=txt.readlines() #Make each line a string\n",
    "    j=1 #j is a counter, and move from one line to another line, size of j is 1 to len(txt)\n",
    "    a= \" \" #odd lines of the file will be added to variable a\n",
    "    for line in txt:\n",
    "        if j%2==0: #If reminder of j over 2 gets zero, add the line in variable a\n",
    "            a= a + \"\\n\" + line #Seperate each output with a line break\n",
    "        j=1+j # Go to the next line, then enter to the loop\n",
    "    print (a)"
   ]
  },
  {
   "cell_type": "code",
   "execution_count": 6,
   "metadata": {},
   "outputs": [
    {
     "name": "stdout",
     "output_type": "stream",
     "text": [
      " \n",
      "SDGAJS\n",
      "\n",
      "SDJHU\n",
      "\n",
      "\"s\"\n",
      "\n"
     ]
    }
   ],
   "source": [
    "#oddLines('practiceonnee.txt')"
   ]
  },
  {
   "cell_type": "markdown",
   "metadata": {},
   "source": [
    "Question Two"
   ]
  },
  {
   "cell_type": "code",
   "execution_count": 29,
   "metadata": {
    "collapsed": true
   },
   "outputs": [],
   "source": [
    "def greetAndCount(txt):    \n",
    "    #Input: string\n",
    "    txt2=txt.split() #If the name consists of two parts, first we need to split the parts, count the length of each part,the add the lengths together\n",
    "    \n",
    "    summation=0\n",
    "    for i in txt2:\n",
    "       summation =summation + len(i)\n",
    "    # If the name consists of two parts, this loop count the length of all parts without counting the space between them.\n",
    "\n",
    "    report= \"Hello \"+ txt + \"\\n\" + str(summation) #summation variable is type integer, to convert  it into string I used str() function\n",
    "    return (report)"
   ]
  },
  {
   "cell_type": "code",
   "execution_count": 30,
   "metadata": {},
   "outputs": [
    {
     "name": "stdout",
     "output_type": "stream",
     "text": [
      "Hello Student\n",
      "7\n"
     ]
    }
   ],
   "source": [
    "#print (greetAndCount(\"Student\"))"
   ]
  },
  {
   "cell_type": "markdown",
   "metadata": {},
   "source": [
    "Question Three"
   ]
  },
  {
   "cell_type": "code",
   "execution_count": 36,
   "metadata": {
    "collapsed": true
   },
   "outputs": [],
   "source": [
    "def divisors(x, y):\n",
    "    #input: enter two numbers\n",
    "    output= [] #Make an empty list to add output \n",
    "    for j in range(1, x+1):\n",
    "        if j%y==0: #If the reminder of j (1<j<x) over y in each iteration is zero, append j to output variable\n",
    "            output.append(j)\n",
    "    return output\n"
   ]
  },
  {
   "cell_type": "code",
   "execution_count": 37,
   "metadata": {},
   "outputs": [
    {
     "name": "stdout",
     "output_type": "stream",
     "text": [
      "[10, 20]\n"
     ]
    }
   ],
   "source": [
    "#print(divisors(23, 10))"
   ]
  },
  {
   "cell_type": "raw",
   "metadata": {},
   "source": [
    "Here is an alternative solution for question three:\n",
    "def divosors(x,y):\n",
    "output = [ j for j in range(1, x+1) if j%y == 0]\n",
    "return output"
   ]
  },
  {
   "cell_type": "markdown",
   "metadata": {},
   "source": [
    "Question Four"
   ]
  },
  {
   "cell_type": "code",
   "execution_count": 40,
   "metadata": {
    "collapsed": true
   },
   "outputs": [],
   "source": [
    "def countWords(txt):\n",
    "    #enter list of strings\n",
    "    lower_case_list= [] # Lowercase each word, so same words with different capital letters count as the same word\n",
    "    for i in txt:\n",
    "        lower_case_list.append(i.lower())\n",
    "    \n",
    "    count = {word:lower_case_list.count(word) for word in lower_case_list} #use count function to count each word\n",
    "    return (count)\n",
    "\n",
    "#There is an alternative code for this question that I used it for the solution of question 5."
   ]
  },
  {
   "cell_type": "code",
   "execution_count": 42,
   "metadata": {},
   "outputs": [
    {
     "name": "stdout",
     "output_type": "stream",
     "text": [
      "{'and': 1, 'thus': 1, 'us': 1, 'seething': 1, 'sea': 4, 'sufficeth': 1, 'ceaseth': 1, 'the': 1}\n"
     ]
    }
   ],
   "source": [
    "print(countWords([\"Sea\", \"sEa\", \"sea\", \"ceaseth\", \"and\", \"thus\", \"the\", \"seething\", \"sea\", \"sufficeth\", \"us\"]))"
   ]
  },
  {
   "cell_type": "markdown",
   "metadata": {},
   "source": [
    "Part Five"
   ]
  },
  {
   "cell_type": "code",
   "execution_count": 47,
   "metadata": {
    "collapsed": true
   },
   "outputs": [],
   "source": [
    "def organizedCountWords(txt):\n",
    "\n",
    "    lower_case_list= [] # Lowercase each word, so same words with different capital letter count as the same word\n",
    "    for i in txt:\n",
    "        lower_case_list.append(i.lower()) #lowercase function cannot be used in the list, so I made a for loop to lower case each string individually and add it to another list.\n",
    "    \n",
    "    dic1 = {}\n",
    "    for i in lower_case_list: #count words and add it into a dictionary\n",
    "        if i in dic1:\n",
    "            dic1[i] += 1 #If the word is already in the dictionary, increase the value one unit\n",
    "        else:\n",
    "            dic1[i] = 1   #If the word does not exist in the dictionary, the value would be one\n",
    "            \n",
    "    listt_first_char=[] # make an empty list, so you can add the first letter of the word in this list\n",
    "    for word in txt:\n",
    "         if word not in listt_first_char:\n",
    "                listt_first_char.append(word[0]) #append first letter of each word into the list, if it does not exist in the list\n",
    "    \n",
    "    dic2={}\n",
    "    for char in listt_first_char:\n",
    "        dic_char= {} #Define an emty dictionary, so I can words with similar \n",
    "        for key, value in dic1.items():\n",
    "            if key[0]== char: #If first letter of key is equal to char, add it to dic_char dictionary.\n",
    "                dic_char[key]= value #This dictionary contains keys that have a similar first letter\n",
    "        dic2[char]= dic_char # add a dictionary into another dictionary, key: first charachter of the word, value: dictionary{word: count}\n",
    "    return dic2    "
   ]
  },
  {
   "cell_type": "code",
   "execution_count": 48,
   "metadata": {},
   "outputs": [
    {
     "name": "stdout",
     "output_type": "stream",
     "text": [
      "{'a': {'and': 1}, 'c': {'ceaseth': 1}, 'S': {}, 's': {'sufficeth': 1, 'seething': 2, 'sea': 2}, 'u': {'us': 1}, 't': {'the': 2, 'thus': 1}}\n"
     ]
    }
   ],
   "source": [
    "print(organizedCountWords([\"the\", \"Seething\", \"sea\", \"ceaseth\",\"and\", \"thus\", \"the\", \"seEthing\", \"sea\", \"sufficeth\", \"us\"]))"
   ]
  }
 ],
 "metadata": {
  "kernelspec": {
   "display_name": "Python [default]",
   "language": "python",
   "name": "python2"
  },
  "language_info": {
   "codemirror_mode": {
    "name": "ipython",
    "version": 2
   },
   "file_extension": ".py",
   "mimetype": "text/x-python",
   "name": "python",
   "nbconvert_exporter": "python",
   "pygments_lexer": "ipython2",
   "version": "2.7.13"
  }
 },
 "nbformat": 4,
 "nbformat_minor": 2
}
